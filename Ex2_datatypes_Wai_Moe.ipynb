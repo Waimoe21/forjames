{
  "cells": [
    {
      "cell_type": "markdown",
      "metadata": {
        "id": "X_Unw3z9u2-7"
      },
      "source": [
        "Ex 1 : Check the lenght of the string \"My name is python\""
      ]
    },
    {
      "cell_type": "code",
      "execution_count": null,
      "metadata": {
        "id": "nkZZQV_ajazO",
        "colab": {
          "base_uri": "https://localhost:8080/"
        },
        "outputId": "a5891e38-a620-44d8-e8b7-183a89e176de"
      },
      "outputs": [
        {
          "output_type": "stream",
          "name": "stdout",
          "text": [
            "There are 17 elements in the given string.\n"
          ]
        }
      ],
      "source": [
        "string=\"My name is python\"\n",
        "length= len(string)\n",
        "print(\"There are {} elements in the given string.\".format(length))"
      ]
    },
    {
      "cell_type": "markdown",
      "metadata": {
        "id": "eF-99zOSjazO"
      },
      "source": [
        "Ex 2: Check the number of times \"python\" (regardless of cases: PYTHON, python, Python\" appears in the paragraph : \"Floating-point values in Python are always done in double precision; hence, Python float types correspond to doubles in a C-like language.\""
      ]
    },
    {
      "cell_type": "code",
      "execution_count": 6,
      "metadata": {
        "id": "p-u2nJzujazP",
        "colab": {
          "base_uri": "https://localhost:8080/"
        },
        "outputId": "a400b98a-bd38-417b-a7c6-da0cc12125db"
      },
      "outputs": [
        {
          "output_type": "stream",
          "name": "stdout",
          "text": [
            "There are 2 occurances of the word 'Python' in the given sentence.\n"
          ]
        }
      ],
      "source": [
        "string=\"Floating-point values in Python are always done in double precision; hence, Python float types correspond to doubles in a C-like language.\"\n",
        "low_str=string.lower()#I believe lower casing every elements in the string makes counting \"python\" much easier and correctly.\n",
        "num=low_str.count(\"python\")\n",
        "print(\"There are {} occurances of the word 'Python' in the given sentence.\".format(num))"
      ]
    },
    {
      "cell_type": "markdown",
      "metadata": {
        "id": "Px5gQ9RDjazQ"
      },
      "source": [
        "Ex 3: Combine two lists : ls1 = [\"apple\", \"banana\", \"cherry\"] and ls2 = [\"apple\", \"banana\", \"cherry\", \"apple\", \"cherry\"]. Print the number of elements in new list. "
      ]
    },
    {
      "cell_type": "code",
      "execution_count": null,
      "metadata": {
        "id": "Q0HA_IV8jazR",
        "colab": {
          "base_uri": "https://localhost:8080/"
        },
        "outputId": "f5ce7593-2c21-4f09-bbfd-04764938603b"
      },
      "outputs": [
        {
          "output_type": "stream",
          "name": "stdout",
          "text": [
            "There are a total of 8 items in both lists.\n"
          ]
        }
      ],
      "source": [
        "ls1 = [\"apple\", \"banana\", \"cherry\"]\n",
        "ls2 = [\"apple\", \"banana\", \"cherry\", \"apple\", \"cherry\"]\n",
        "combined=len(ls1+ls2)\n",
        "print(\"There are a total of {} items in both lists.\".format(combined))\n",
        "\n"
      ]
    },
    {
      "cell_type": "markdown",
      "metadata": {
        "id": "wlgwzjBKjazS"
      },
      "source": [
        "Ex 4: Create a dictionary for the following table: "
      ]
    },
    {
      "cell_type": "markdown",
      "metadata": {
        "id": "rRf4_mp3jazS"
      },
      "source": [
        "| Key | Value | \n",
        "| --- | --- | \n",
        "| Name | Age |\n",
        "| Myo | 32 |\n",
        "| Thida | 64 |"
      ]
    },
    {
      "cell_type": "code",
      "execution_count": 9,
      "metadata": {
        "id": "Ma9SmBPKjazT",
        "colab": {
          "base_uri": "https://localhost:8080/",
          "height": 235
        },
        "outputId": "f0ade6e4-fffb-48e5-9119-5cd1981edac6"
      },
      "outputs": [
        {
          "output_type": "error",
          "ename": "KeyError",
          "evalue": "ignored",
          "traceback": [
            "\u001b[0;31m---------------------------------------------------------------------------\u001b[0m",
            "\u001b[0;31mKeyError\u001b[0m                                  Traceback (most recent call last)",
            "\u001b[0;32m<ipython-input-9-aae5c24d388d>\u001b[0m in \u001b[0;36m<module>\u001b[0;34m\u001b[0m\n\u001b[1;32m      1\u001b[0m \u001b[0mdictionary\u001b[0m\u001b[0;34m=\u001b[0m\u001b[0;34m{\u001b[0m\u001b[0;34m\"Name\"\u001b[0m\u001b[0;34m:\u001b[0m\u001b[0;34m[\u001b[0m\u001b[0;34m\"Myo\"\u001b[0m\u001b[0;34m,\u001b[0m\u001b[0;34m\"Thida\"\u001b[0m\u001b[0;34m]\u001b[0m\u001b[0;34m,\u001b[0m\u001b[0;34m\"Age\"\u001b[0m\u001b[0;34m:\u001b[0m\u001b[0;34m[\u001b[0m\u001b[0;36m32\u001b[0m\u001b[0;34m,\u001b[0m\u001b[0;36m64\u001b[0m\u001b[0;34m]\u001b[0m\u001b[0;34m}\u001b[0m\u001b[0;34m\u001b[0m\u001b[0;34m\u001b[0m\u001b[0m\n\u001b[1;32m      2\u001b[0m \u001b[0mdictionary\u001b[0m\u001b[0;34m[\u001b[0m\u001b[0;34m'Age'\u001b[0m\u001b[0;34m]\u001b[0m\u001b[0;34m\u001b[0m\u001b[0;34m\u001b[0m\u001b[0m\n\u001b[0;32m----> 3\u001b[0;31m \u001b[0mdictionary\u001b[0m\u001b[0;34m[\u001b[0m\u001b[0;36m1\u001b[0m\u001b[0;34m]\u001b[0m\u001b[0;34m[\u001b[0m\u001b[0;36m1\u001b[0m\u001b[0;34m]\u001b[0m\u001b[0;34m\u001b[0m\u001b[0;34m\u001b[0m\u001b[0m\n\u001b[0m\u001b[1;32m      4\u001b[0m \u001b[0;34m\u001b[0m\u001b[0m\n\u001b[1;32m      5\u001b[0m \u001b[0;31m#Professor, I see 2 values under \"Age\" in the table. Therefore, I seperated \"Myo\" and \"Thida\" as 2 values of \"Name\".\u001b[0m\u001b[0;34m\u001b[0m\u001b[0;34m\u001b[0m\u001b[0;34m\u001b[0m\u001b[0m\n",
            "\u001b[0;31mKeyError\u001b[0m: 1"
          ]
        }
      ],
      "source": [
        "dictionary={\"Name\":[\"Myo\",\"Thida\"],\"Age\":[32,64]}\n",
        "dictionary['Age']\n",
        "\n",
        "\n",
        "#Professor, I see 2 values under \"Age\" in the table. Therefore, I seperated \"Myo\" and \"Thida\" as 2 values of \"Name\". \n"
      ]
    },
    {
      "cell_type": "raw",
      "metadata": {
        "id": "u0VEjNTZjazU"
      },
      "source": [
        "Ex 5: Combine two sets and print the combined set and its length. \n",
        "set1 = {\"Name\", \"age\", \"Height\"}\n",
        "set2 = {\"Name\", \"status\", \"Education\"}"
      ]
    },
    {
      "cell_type": "code",
      "execution_count": null,
      "metadata": {
        "id": "aQm503OujazU"
      },
      "outputs": [],
      "source": []
    }
  ],
  "metadata": {
    "colab": {
      "provenance": [],
      "collapsed_sections": []
    },
    "kernelspec": {
      "display_name": "Python 3",
      "language": "python",
      "name": "python3"
    },
    "language_info": {
      "codemirror_mode": {
        "name": "ipython",
        "version": 3
      },
      "file_extension": ".py",
      "mimetype": "text/x-python",
      "name": "python",
      "nbconvert_exporter": "python",
      "pygments_lexer": "ipython3",
      "version": "3.8.8"
    }
  },
  "nbformat": 4,
  "nbformat_minor": 0
}